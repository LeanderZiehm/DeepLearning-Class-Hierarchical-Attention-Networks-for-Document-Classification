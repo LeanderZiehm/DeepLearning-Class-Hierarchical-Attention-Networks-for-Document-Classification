{
 "cells": [
  {
   "cell_type": "code",
   "execution_count": 1,
   "id": "1c57fb9e",
   "metadata": {},
   "outputs": [
    {
     "data": {
      "text/plain": [
       "[[2, 3, 4, 5, 8], [2, 3, 1, 6, 7, 8]]"
      ]
     },
     "execution_count": 1,
     "metadata": {},
     "output_type": "execute_result"
    }
   ],
   "source": [
    "\n",
    "from nltk.tokenize import sent_tokenize, word_tokenize\n",
    "\n",
    "def clean_text(text):\n",
    "    \"\"\"Clean text by removing extra spaces and converting to lowercase.\"\"\"\n",
    "    cleaned_text = ' '.join(text.split())\n",
    "    return cleaned_text.lower()\n",
    "\n",
    "word_to_idx = {\n",
    "    \"this\": 2,\n",
    "    \"is\": 3,\n",
    "    \"a\": 4,\n",
    "    \"test\": 5,\n",
    "    \"example\": 6,\n",
    "    \"sentence\": 7,\n",
    "    \".\": 8\n",
    "}\n",
    "\n",
    "\n",
    "def text_to_hierarchical_indices(\n",
    "         text, max_sentences=20, max_words_per_sentence=50\n",
    "    ):\n",
    "        \"\"\"Convert text to hierarchical structure of word indices.\"\"\"\n",
    "        cleaned_text = clean_text(text)\n",
    "        sentences = sent_tokenize(cleaned_text)\n",
    "\n",
    "        # Limit number of sentences\n",
    "        sentences = sentences[:max_sentences]\n",
    "\n",
    "        hierarchical_doc = []\n",
    "        for sentence in sentences:\n",
    "            words = word_tokenize(sentence)\n",
    "            # Limit words per sentence\n",
    "            words = words[:max_words_per_sentence]\n",
    "\n",
    "            # Convert words to indices\n",
    "            word_indices = []\n",
    "            for word in words:\n",
    "                idx = word_to_idx.get(word, 1)  # 1 is <UNK>\n",
    "                word_indices.append(idx)\n",
    "\n",
    "            if word_indices:  # Only add non-empty sentences\n",
    "                hierarchical_doc.append(word_indices)\n",
    "\n",
    "        return hierarchical_doc if hierarchical_doc else [[1]]  # Return <UNK> if empty\n",
    "\n",
    "\n",
    "text = \"This is a test. This is another example sentence.\"\n",
    "text_to_hierarchical_indices(text)\n"
   ]
  }
 ],
 "metadata": {
  "kernelspec": {
   "display_name": "base",
   "language": "python",
   "name": "python3"
  },
  "language_info": {
   "codemirror_mode": {
    "name": "ipython",
    "version": 3
   },
   "file_extension": ".py",
   "mimetype": "text/x-python",
   "name": "python",
   "nbconvert_exporter": "python",
   "pygments_lexer": "ipython3",
   "version": "3.10.18"
  }
 },
 "nbformat": 4,
 "nbformat_minor": 5
}
